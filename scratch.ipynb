{
 "cells": [
  {
   "cell_type": "code",
   "execution_count": 5,
   "metadata": {},
   "outputs": [
    {
     "data": {
      "text/plain": [
       "<module 'fields' from 'c:\\\\Users\\\\Jg\\\\Documents\\\\esports_records_etl\\\\esports_records_etl\\\\fields.py'>"
      ]
     },
     "execution_count": 5,
     "metadata": {},
     "output_type": "execute_result"
    }
   ],
   "source": [
    "import pandas as pd\n",
    "from api_base import ScoreboardPlayersInterface\n",
    "import fields as fs\n",
    "from importlib import reload\n",
    "reload(fs)"
   ]
  },
  {
   "cell_type": "code",
   "execution_count": 6,
   "metadata": {},
   "outputs": [
    {
     "name": "stdout",
     "output_type": "stream",
     "text": [
      "name VARCHAR (256)\n",
      "champion VARCHAR (256)\n",
      "kills INT\n",
      "deaths INT\n",
      "assists INT\n",
      "summoner_spells TEXT[]\n",
      "gold INT\n",
      "cs INT\n",
      "champ_damage INT\n",
      "vision_score INT\n",
      "items TEXT[]\n",
      "keystone_mastery VARCHAR (256)\n",
      "keystone_rune VARCHAR (256)\n",
      "primary_tree VARCHAR (256)\n",
      "secondary_tree VARCHAR (256)\n",
      "runes VARCHAR (256)\n",
      "team_kills INT\n",
      "team_gold INT\n",
      "team VARCHAR (256)\n",
      "team_vs VARCHAR (256)\n",
      "game_time TIMESTAMP\n",
      "win VARCHAR (256)\n",
      "datetime_utc TIMESTAMP\n",
      "tournament VARCHAR (256)\n",
      "role VARCHAR (256)\n",
      "role_num INT\n",
      "in_game_role VARCHAR (256)\n",
      "side INT\n",
      "unique_line VARCHAR (256)\n",
      "unique_line_vs VARCHAR (256)\n",
      "unique_role VARCHAR (256)\n",
      "unique_role_vs VARCHAR (256)\n",
      "game_id VARCHAR (256)\n",
      "match_id VARCHAR (256)\n",
      "game_team_id VARCHAR (256)\n",
      "game_role_id VARCHAR (256)\n",
      "game_role_id_vs VARCHAR (256)\n"
     ]
    }
   ],
   "source": [
    "for name, value in fs.SPFields.__members__.items():\n",
    "    print(f'{name} {fs.dtype_wiki2psql[fs.SPDTypes[value]]}')"
   ]
  },
  {
   "cell_type": "code",
   "execution_count": 9,
   "metadata": {},
   "outputs": [
    {
     "data": {
      "text/plain": [
       "'name VARCHAR (256), champion VARCHAR (256), kills INT, deaths INT, assists INT, summoner_spells TEXT[], gold INT, cs INT, champ_damage INT, vision_score INT, items TEXT[], keystone_mastery VARCHAR (256), keystone_rune VARCHAR (256), primary_tree VARCHAR (256), secondary_tree VARCHAR (256), runes VARCHAR (256), team_kills INT, team_gold INT, team VARCHAR (256), team_vs VARCHAR (256), game_time TIMESTAMP, win VARCHAR (256), datetime_utc TIMESTAMP, tournament VARCHAR (256), role VARCHAR (256), role_num INT, in_game_role VARCHAR (256), side INT, unique_line VARCHAR (256), unique_line_vs VARCHAR (256), unique_role VARCHAR (256), unique_role_vs VARCHAR (256), game_id VARCHAR (256), match_id VARCHAR (256), game_team_id VARCHAR (256), game_role_id VARCHAR (256), game_role_id_vs VARCHAR (256), '"
      ]
     },
     "execution_count": 9,
     "metadata": {},
     "output_type": "execute_result"
    }
   ],
   "source": [
    "def col_field_gen(\n",
    "        fields: fs.FieldHolder,\n",
    "        field_wikidtypes: fs.DTypeEnum \n",
    "    ):\n",
    "    res = ''\n",
    "    for name, value in fields.__members__.items():\n",
    "        res += f'{name} {fs.dtype_wiki2psql[field_wikidtypes[value]]}, '\n",
    "    return res\n",
    "\n",
    "col_field_gen(fs.SPFields, fs.SPDTypes)"
   ]
  },
  {
   "cell_type": "code",
   "execution_count": 4,
   "metadata": {},
   "outputs": [],
   "source": [
    "query = ScoreboardPlayersInterface().query_api(0, '2024-01-01', '2024-02-01')\n",
    "\n",
    "query_df = pd.DataFrame(query)\n",
    "a = query_df.astype(SPDTypes.dtypes_map())\n",
    "a.dtypes"
   ]
  },
  {
   "cell_type": "code",
   "execution_count": 9,
   "metadata": {},
   "outputs": [
    {
     "data": {
      "text/plain": [
       "type"
      ]
     },
     "execution_count": 9,
     "metadata": {},
     "output_type": "execute_result"
    }
   ],
   "source": [
    "pd.Timestamp.__class__"
   ]
  }
 ],
 "metadata": {
  "kernelspec": {
   "display_name": "esports_venv",
   "language": "python",
   "name": "python3"
  },
  "language_info": {
   "codemirror_mode": {
    "name": "ipython",
    "version": 3
   },
   "file_extension": ".py",
   "mimetype": "text/x-python",
   "name": "python",
   "nbconvert_exporter": "python",
   "pygments_lexer": "ipython3",
   "version": "3.12.4"
  }
 },
 "nbformat": 4,
 "nbformat_minor": 2
}
